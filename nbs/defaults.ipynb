{
 "cells": [
  {
   "cell_type": "code",
   "execution_count": 1,
   "id": "4f104d14-32d1-41b2-b3ef-297f0b5cf039",
   "metadata": {},
   "outputs": [],
   "source": [
    "# default_exp defaults\n",
    "# hide\n",
    "_FNAME='defaults'\n",
    "\n",
    "import unittest\n",
    "from unittest import mock\n",
    "from nbdev.export import notebook2script\n",
    "import os\n",
    "\n",
    "TESTCASE = unittest.TestCase()\n",
    "_nbpath = os.path.join(_dh[0], _FNAME+'.ipynb')"
   ]
  },
  {
   "cell_type": "code",
   "execution_count": 2,
   "id": "5b8f6270-4258-4cfd-97cd-80fe3f626c89",
   "metadata": {},
   "outputs": [],
   "source": [
    "#export\n",
    "from sunspec.core.suns import *\n",
    "def unhex(hexstr:str):\n",
    "    return int(hexstr, 16)\n",
    "unimplemented = {}"
   ]
  },
  {
   "cell_type": "markdown",
   "id": "8d52a79d-bb3f-4c55-b2ba-c496df276591",
   "metadata": {},
   "source": [
    "## Not Implemented Registers"
   ]
  },
  {
   "cell_type": "markdown",
   "id": "f87a0d27-9208-4e47-b936-b8f74dd7d389",
   "metadata": {},
   "source": [
    "> See section 6.4 of the Sunspec Device Information Model Specification"
   ]
  },
  {
   "cell_type": "markdown",
   "id": "1dfc87ac-029d-4bab-8858-aa80d0c0f6c1",
   "metadata": {},
   "source": [
    "[Data points that are not \"Mandatory\" will use these values to show that they are unimplemented.  ](https://github.com/sunspec/pysunspec/blob/master/sunspec/core/suns.py)"
   ]
  },
  {
   "cell_type": "markdown",
   "id": "3c5c293e-e9bd-412c-a12c-881707dfc778",
   "metadata": {},
   "source": [
    "### 16-bit"
   ]
  },
  {
   "cell_type": "code",
   "execution_count": 3,
   "id": "a5f48269-8fa1-41cc-811a-34d169e8668e",
   "metadata": {},
   "outputs": [],
   "source": [
    "#export\n",
    "unimplemented[SUNS_TYPE_INT16]=SUNS_UNIMPL_INT16\n",
    "unimplemented[SUNS_TYPE_UINT16] = SUNS_UNIMPL_UINT16\n",
    "unimplemented[SUNS_TYPE_ACC16]= SUNS_UNIMPL_ACC16\n",
    "unimplemented[SUNS_TYPE_ENUM16] = SUNS_UNIMPL_ENUM16\n",
    "unimplemented[SUNS_TYPE_BITFIELD16] = SUNS_UNIMPL_BITFIELD16\n",
    "unimplemented[SUNS_TYPE_PAD] = unhex('0x8000')"
   ]
  },
  {
   "cell_type": "markdown",
   "id": "a14699af-c84c-46fd-a151-fdafb3e63499",
   "metadata": {
    "tags": []
   },
   "source": [
    "### 32-bit"
   ]
  },
  {
   "cell_type": "code",
   "execution_count": 4,
   "id": "da922738-f0ef-4b75-8390-51a8899107d3",
   "metadata": {},
   "outputs": [],
   "source": [
    "#export\n",
    "unimplemented[SUNS_TYPE_INT32] = SUNS_UNIMPL_INT32\n",
    "unimplemented[SUNS_TYPE_UINT32] = SUNS_UNIMPL_UINT32\n",
    "unimplemented[SUNS_TYPE_ACC32] = SUNS_UNIMPL_ACC32\n",
    "unimplemented[SUNS_TYPE_ENUM32] = SUNS_UNIMPL_ENUM32\n",
    "unimplemented[SUNS_TYPE_BITFIELD32] = SUNS_UNIMPL_BITFIELD32\n",
    "unimplemented[SUNS_TYPE_IPADDR] = SUNS_UNIMPL_IPADDR"
   ]
  },
  {
   "cell_type": "markdown",
   "id": "2be392e3-a5b9-4a27-a0f9-700d52337dbb",
   "metadata": {},
   "source": [
    "### 64-bit"
   ]
  },
  {
   "cell_type": "code",
   "execution_count": 5,
   "id": "1ad19020-7aa8-4a97-88a1-ab656055fe8e",
   "metadata": {},
   "outputs": [],
   "source": [
    "#export\n",
    "unimplemented[SUNS_TYPE_INT64] = SUNS_UNIMPL_INT64\n",
    "unimplemented[SUNS_TYPE_UINT64] = SUNS_UNIMPL_UINT64\n",
    "unimplemented[SUNS_TYPE_ACC64] =SUNS_UNIMPL_ACC64"
   ]
  },
  {
   "cell_type": "markdown",
   "id": "f79623d8-a136-4cf7-b966-2c5436a08e0b",
   "metadata": {},
   "source": [
    "### 128-bit"
   ]
  },
  {
   "cell_type": "code",
   "execution_count": 6,
   "id": "f691e564-2eb2-40f4-bca3-de4f198b5f6c",
   "metadata": {},
   "outputs": [],
   "source": [
    "#export\n",
    "unimplemented[SUNS_TYPE_IPV6ADDR] =SUNS_UNIMPL_IPV6ADDR"
   ]
  },
  {
   "cell_type": "markdown",
   "id": "53cb5e23-9398-4c70-9704-ea4f0ef10baa",
   "metadata": {},
   "source": [
    "### String"
   ]
  },
  {
   "cell_type": "markdown",
   "id": "a531e966-6a4b-419f-8aa2-ab72cf078abd",
   "metadata": {},
   "source": [
    "This isn't quite right.  It is recommended that an empty string be represented with the first register, with a value of `0x0080`."
   ]
  },
  {
   "cell_type": "code",
   "execution_count": 7,
   "id": "f5ace458-9bee-483e-b5bf-b3646ad83764",
   "metadata": {},
   "outputs": [],
   "source": [
    "#export\n",
    "unimplemented[SUNS_TYPE_STRING] = SUNS_UNIMPL_STRING"
   ]
  },
  {
   "cell_type": "markdown",
   "id": "9fe05788-39ff-4ab9-86f3-13156a17c050",
   "metadata": {},
   "source": [
    "### 32-bit float"
   ]
  },
  {
   "cell_type": "code",
   "execution_count": 8,
   "id": "4e263e5f-0683-426e-a0e6-8510f58b43e5",
   "metadata": {},
   "outputs": [],
   "source": [
    "#export\n",
    "unimplemented[SUNS_TYPE_FLOAT32] = SUNS_UNIMPL_FLOAT32"
   ]
  },
  {
   "cell_type": "markdown",
   "id": "d3154f88-cdd6-41e6-855e-132f1c3fd02f",
   "metadata": {},
   "source": [
    "### 64-bit float"
   ]
  },
  {
   "cell_type": "code",
   "execution_count": 9,
   "id": "a521dd0a-8c0d-491b-b210-80b57e37c5f6",
   "metadata": {},
   "outputs": [],
   "source": [
    "#export\n",
    "unimplemented['float64'] = unhex('0x7FF8000000000000')"
   ]
  },
  {
   "cell_type": "markdown",
   "id": "78445d51-17ef-4d8a-8a65-6cfbc28a1ce6",
   "metadata": {},
   "source": [
    "### Sunssf"
   ]
  },
  {
   "cell_type": "code",
   "execution_count": 10,
   "id": "4daa2311-dfa8-4dc1-9086-511e15bb08f7",
   "metadata": {},
   "outputs": [],
   "source": [
    "#export\n",
    "unimplemented[SUNS_TYPE_SUNSSF] = SUNS_UNIMPL_SUNSSF"
   ]
  },
  {
   "cell_type": "code",
   "execution_count": 11,
   "id": "34f1406d-9647-4c06-b100-f06f9a507bce",
   "metadata": {},
   "outputs": [
    {
     "name": "stdout",
     "output_type": "stream",
     "text": [
      "Converted defaults.ipynb.\n"
     ]
    }
   ],
   "source": [
    "notebook2script(_nbpath)"
   ]
  }
 ],
 "metadata": {
  "kernelspec": {
   "display_name": "Python 3 (ipykernel)",
   "language": "python",
   "name": "python3"
  },
  "language_info": {
   "codemirror_mode": {
    "name": "ipython",
    "version": 3
   },
   "file_extension": ".py",
   "mimetype": "text/x-python",
   "name": "python",
   "nbconvert_exporter": "python",
   "pygments_lexer": "ipython3",
   "version": "3.8.10"
  }
 },
 "nbformat": 4,
 "nbformat_minor": 5
}
