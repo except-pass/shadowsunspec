{
 "cells": [
  {
   "cell_type": "code",
   "execution_count": 1,
   "id": "39e7a8b3-a500-4143-b12f-d8d9ceed8b05",
   "metadata": {},
   "outputs": [],
   "source": [
    "# default_exp values\n",
    "# hide\n",
    "_FNAME='values'\n",
    "\n",
    "import unittest\n",
    "from unittest import mock\n",
    "from nbdev.export import notebook2script\n",
    "import os\n",
    "\n",
    "TESTCASE = unittest.TestCase()\n",
    "_nbpath = os.path.join(_dh[0], _FNAME+'.ipynb')"
   ]
  },
  {
   "cell_type": "code",
   "execution_count": 2,
   "id": "e155cc3e-548c-4944-9de9-d271a44b1a6b",
   "metadata": {},
   "outputs": [],
   "source": [
    "#export\n",
    "import random\n",
    "import json\n",
    "import sunspec.core.suns as suns\n",
    "from shadowsunspec.factory import assemble, encode, ShadowSunspecEncoder\n",
    "import shadowsunspec.defaults as defaults"
   ]
  },
  {
   "cell_type": "code",
   "execution_count": 3,
   "id": "b0c9af99-44b3-4882-8a9f-7fbbe2a6ea15",
   "metadata": {},
   "outputs": [],
   "source": [
    "#export\n",
    "\n",
    "class ExampleValue:\n",
    "    def __init__(self, values, mid, symbol, block_type=suns.SUNS_BLOCK_FIXED):\n",
    "        try:\n",
    "            self.values = list(values)\n",
    "        except TypeError:\n",
    "            self.values = [values]\n",
    "            \n",
    "        self.mid = mid\n",
    "        self.symbol = symbol\n",
    "        self.block_type = block_type\n",
    "        \n",
    "    def generate(self):\n",
    "        return random.choice(self.values)\n",
    "    \n",
    "    def attach(self, dev):\n",
    "        mid = self.mid\n",
    "        symbol = self.symbol\n",
    "        block_type = self.block_type\n",
    "        \n",
    "        models = dev.models.get(mid) or []\n",
    "        altered = []\n",
    "        for model in models:\n",
    "            blocks = [b for b in model.blocks if b.block_type.type==block_type]\n",
    "            for block in blocks:\n",
    "                point = block.points[symbol]\n",
    "                point.example = self\n",
    "                altered.append(point)\n",
    "        return altered\n",
    "\n",
    "class ExampleValues:\n",
    "    def __init__(self):\n",
    "        self.examples = {}\n",
    "    \n",
    "    def key(self, mid, symbol):\n",
    "        return '{mid}.{symbol}'.format(mid=mid, symbol=symbol)\n",
    "    def add(self, *args, **kwargs):\n",
    "        newexample = ExampleValue(*args, **kwargs)\n",
    "        key = self.key(newexample.mid, newexample.symbol)\n",
    "        self.examples[key] = newexample\n",
    "    def attach(self, dev):\n",
    "        for example in self.examples.values():\n",
    "            example.attach(dev)"
   ]
  },
  {
   "cell_type": "code",
   "execution_count": 4,
   "id": "e1eff286-874f-4b46-9ee8-2929c960277e",
   "metadata": {},
   "outputs": [
    {
     "name": "stdout",
     "output_type": "stream",
     "text": [
      "SUCCESS!\n"
     ]
    }
   ],
   "source": [
    "def test_example_attachment():\n",
    "    dev = assemble([{'mid': 802}, {'mid': 805, 'repeating': 4}])\n",
    "    ev = ExampleValue(3, mid=802, symbol='V')\n",
    "    altered = ev.attach(dev)\n",
    "    v = dev.models[802][0].blocks[0].points['V']\n",
    "    TESTCASE.assertIs(altered[0], v)\n",
    "    TESTCASE.assertIsInstance(v.example, ExampleValue)\n",
    "    TESTCASE.assertEqual(v.example.generate(), 3)\n",
    "    print(\"SUCCESS!\")\n",
    "    \n",
    "test_example_attachment()    "
   ]
  },
  {
   "cell_type": "code",
   "execution_count": 5,
   "id": "96a94c79-77ed-4bc9-8982-e7152f477bd1",
   "metadata": {},
   "outputs": [
    {
     "name": "stdout",
     "output_type": "stream",
     "text": [
      "SUCCESS!\n"
     ]
    }
   ],
   "source": [
    "def test_multi_attachment():    \n",
    "    dev = assemble([{'mid': 802}, {'mid': 805, 'repeating': 4}])\n",
    "    ev2 = ExampleValue(2, mid=805, symbol='CellTmp', block_type='repeating')\n",
    "    altered = ev2.attach(dev)\n",
    "    TESTCASE.assertEqual(len(altered), 4)\n",
    "    print(\"SUCCESS!\")\n",
    "test_multi_attachment()"
   ]
  },
  {
   "cell_type": "code",
   "execution_count": 6,
   "id": "b16ee3d0-8e13-4707-ab11-53353b104dfd",
   "metadata": {},
   "outputs": [],
   "source": [
    "#export\n",
    "def get_point_value(point):\n",
    "    value = point.value_base\n",
    "    if value is None:\n",
    "        try:\n",
    "            value = point.example.generate()\n",
    "        except AttributeError:  #no example is given\n",
    "            value = defaults.unimplemented[point.point_type.type]\n",
    "    return value"
   ]
  },
  {
   "cell_type": "code",
   "execution_count": 7,
   "id": "10e93b84-6746-4be8-88c0-cae856877850",
   "metadata": {},
   "outputs": [
    {
     "name": "stdout",
     "output_type": "stream",
     "text": [
      "SUCCESS!\n"
     ]
    }
   ],
   "source": [
    "import sunspec.core.device as device\n",
    "\n",
    "def test_get_point_value_unimpl():\n",
    "    int16 = device.PointType(pid='Test', ptype=suns.SUNS_TYPE_INT16)\n",
    "    p1 = device.Point(point_type=int16)\n",
    "    TESTCASE.assertIsNone(p1.value_base)\n",
    "    TESTCASE.assertEqual(get_point_value(p1), suns.SUNS_UNIMPL_INT16)\n",
    "    p1.value_base = 123\n",
    "    TESTCASE.assertEqual(get_point_value(p1), 123)\n",
    "    print(\"SUCCESS!\")\n",
    "test_get_point_value_unimpl()"
   ]
  },
  {
   "cell_type": "code",
   "execution_count": 8,
   "id": "3c4b31c6-5c65-4f2c-a3b0-df943a9ef8cc",
   "metadata": {},
   "outputs": [
    {
     "name": "stdout",
     "output_type": "stream",
     "text": [
      "SUCCESS!\n"
     ]
    }
   ],
   "source": [
    "def test_get_point_value():\n",
    "    dev = assemble([{'mid': 802}, {'mid': 805, 'repeating': 4}])\n",
    "    ev2 = ExampleValue(2, mid=805, symbol='CellTmp', block_type='repeating')\n",
    "    altered = ev2.attach(dev)\n",
    "    pts = dev.models[805][0].blocks[1].points_list\n",
    "\n",
    "    TESTCASE.assertEqual([get_point_value(pt) for pt in pts],\n",
    "                        [suns.SUNS_UNIMPL_UINT16, 2, suns.SUNS_UNIMPL_BITFIELD32])\n",
    "    print(\"SUCCESS!\")\n",
    "    \n",
    "\n",
    "test_get_point_value()"
   ]
  },
  {
   "cell_type": "markdown",
   "id": "0103d98f-54d1-4df9-97c4-fa331825332b",
   "metadata": {},
   "source": [
    "## Example Values"
   ]
  },
  {
   "cell_type": "code",
   "execution_count": 9,
   "id": "ac33da13-8436-4536-915e-b81fcb2fb990",
   "metadata": {},
   "outputs": [],
   "source": [
    "#export\n",
    "class ShadowSunspecValueEncoder(ShadowSunspecEncoder):\n",
    "    def encode_point(self, point):\n",
    "        pt = point.point_type\n",
    "        value = get_point_value(point)\n",
    "        return {pt.id: value}"
   ]
  },
  {
   "cell_type": "code",
   "execution_count": 10,
   "id": "269ddf04-9e11-40cd-9c03-b71c85ca6fd1",
   "metadata": {},
   "outputs": [],
   "source": [
    "#export\n",
    "example_device = assemble([{'mid': 802}, {'mid': 805, 'repeating': 4}])\n",
    "ev = ExampleValues()\n",
    "ev.add(1, mid=805, symbol='StrIdx')\n",
    "ev.add(16, mid=805, symbol='NCell')\n",
    "ev.add(range(470, 520), mid=805, symbol='V')\n",
    "\n",
    "ev.add(range(280, 330), mid=805, symbol='CellV', block_type='repeating')\n",
    "ev.add(0, mid=805, symbol='CellSt', block_type='repeating')\n",
    "ev.add(range(300, 340), mid=805, symbol='CellTmp', block_type='repeating')\n",
    "\n",
    "ev.add(range(470, 520), mid=802, symbol='V')\n",
    "ev.add(range(0, 1000), mid=802, symbol='A')\n",
    "ev.add(range(0, 600), mid=802, symbol='W')  #assuming W_SF=1\n",
    "ev.add(range(470, 520), mid=802, symbol='SoC')\n",
    "\n",
    "example_values=ev\n",
    "\n",
    "ev.attach(example_device)"
   ]
  },
  {
   "cell_type": "code",
   "execution_count": 11,
   "id": "e722b0c4-020f-4e5c-bf96-7a19a6ae8d47",
   "metadata": {},
   "outputs": [
    {
     "name": "stdout",
     "output_type": "stream",
     "text": [
      "Converted values.ipynb.\n"
     ]
    }
   ],
   "source": [
    "notebook2script(_nbpath)"
   ]
  }
 ],
 "metadata": {
  "kernelspec": {
   "display_name": "Python 3 (ipykernel)",
   "language": "python",
   "name": "python3"
  },
  "language_info": {
   "codemirror_mode": {
    "name": "ipython",
    "version": 3
   },
   "file_extension": ".py",
   "mimetype": "text/x-python",
   "name": "python",
   "nbconvert_exporter": "python",
   "pygments_lexer": "ipython3",
   "version": "3.8.10"
  }
 },
 "nbformat": 4,
 "nbformat_minor": 5
}
