{
 "cells": [
  {
   "cell_type": "code",
   "execution_count": 1,
   "id": "f38055ed-d7fa-4cd5-99c4-54fc39e4e010",
   "metadata": {},
   "outputs": [],
   "source": [
    "# default_exp factory\n",
    "# hide\n",
    "_FNAME='factory'\n",
    "\n",
    "import unittest\n",
    "from unittest import mock\n",
    "from nbdev.export import notebook2script\n",
    "import os\n",
    "\n",
    "TESTCASE = unittest.TestCase()\n",
    "_nbpath = os.path.join(_dh[0], _FNAME+'.ipynb')"
   ]
  },
  {
   "cell_type": "code",
   "execution_count": 2,
   "id": "5eae3394-033d-4042-8899-bce9b80ed046",
   "metadata": {},
   "outputs": [],
   "source": [
    "#export\n",
    "import json\n",
    "import sunspec.core.device as device"
   ]
  },
  {
   "cell_type": "code",
   "execution_count": 3,
   "id": "eb24ba89-7e6a-4c4d-806f-cf4b721dfaa2",
   "metadata": {},
   "outputs": [],
   "source": [
    "#export\n",
    "def list_to_indexdir(lst):\n",
    "    '''\n",
    "    Transforms a list into a dictionary with \n",
    "    {list index: list value}\n",
    "    \n",
    "    lst: Any enumeratable object\n",
    "    \n",
    "    Example:\n",
    "    >> list_to_indexdir(['a', {'b':1}])\n",
    "    {0: 'a', 1: {'b': 1}}\n",
    "    '''\n",
    "    returnme = {}\n",
    "    for index, item in enumerate(lst):\n",
    "        returnme[index] = item\n",
    "    return returnme "
   ]
  },
  {
   "cell_type": "code",
   "execution_count": 4,
   "id": "544c85cb-6994-45c1-a1cb-9bf4bab48c03",
   "metadata": {},
   "outputs": [],
   "source": [
    "TESTCASE.assertDictEqual(list_to_indexdir(['a', {'b':1}]),\n",
    "                         {0: 'a', 1: {'b': 1}})"
   ]
  },
  {
   "cell_type": "code",
   "execution_count": 5,
   "id": "e5e464b9-3aaf-445f-a438-2f6b1140244b",
   "metadata": {},
   "outputs": [],
   "source": [
    "#export\n",
    "def create_model(device_object, mid, repeating=None):\n",
    "    #make a non-repeating model so that we can introspect the length of the repeating block\n",
    "    model = device.Model(device=device_object, mid=mid)\n",
    "    model.load()\n",
    "    if repeating:\n",
    "        mlen = None\n",
    "        fixed_block, repeating_blocks = model.blocks        \n",
    "        mlen = fixed_block.len + repeating*repeating_blocks.len\n",
    "        return device.Model(device=device_object, mid=mid, mlen=mlen)\n",
    "    return device.Model(device=device_object, mid=mid)\n",
    "    \n",
    "def assemble_sunspec_model(model_definitions, device_object=None):\n",
    "    dev = device_object or device.Device()\n",
    "    for model_definition in model_definitions:\n",
    "        curr_model = create_model(dev, **model_definition)\n",
    "        curr_model.load()\n",
    "        dev.add_model(curr_model)\n",
    "    return dev\n",
    "assemble = assemble_sunspec_model"
   ]
  },
  {
   "cell_type": "code",
   "execution_count": 6,
   "id": "b4c13f45-3cf3-4121-bd1d-fd5992eeee55",
   "metadata": {},
   "outputs": [],
   "source": [
    "model_definitions = [ \n",
    "           {'mid': 802}, \n",
    "           {'mid': 803}, \n",
    "           {'mid': 805, \"repeating\": 16}\n",
    "         ]\n",
    "dev = assemble_sunspec_model(model_definitions)\n",
    "#print(dev)"
   ]
  },
  {
   "cell_type": "code",
   "execution_count": 7,
   "id": "83721adc-c214-4b85-9a4b-d566bfef345c",
   "metadata": {},
   "outputs": [],
   "source": [
    "#export\n",
    "class ShadowSunspecEncoder(json.JSONEncoder):\n",
    "    '''\n",
    "    Recursively json encodes a sunspec model into a shadow-sunspec compliant object\n",
    "    Note that if the top level object is a list you will not get a index-dir as defined above.\n",
    "    \n",
    "    This class returns an example dictionary.  It is made for communication purposes.\n",
    "    It contains the datatype as the value instead of the actual modbus or canbus data.\n",
    "    '''\n",
    "    def default(self, obj):\n",
    "        if isinstance(obj, device.Model):\n",
    "            return self.encode_model(obj)\n",
    "        elif isinstance(obj, device.Device):\n",
    "            return self.encode_device(obj)\n",
    "        elif isinstance(obj, device.Block):\n",
    "            return self.encode_block(obj)           \n",
    "        elif isinstance(obj, device.Point):\n",
    "            return self.encode_point(obj)\n",
    "        else:\n",
    "            raise ValueError(\"Cant encode {}\".format(obj))\n",
    "    \n",
    "    def encode_device(self, device):\n",
    "        return list_to_indexdir(device.models_list)\n",
    "                \n",
    "    def encode_model(self, model):\n",
    "        model_dir = self.encode_blocks(model.blocks)\n",
    "        model_dir['id'] = model.id\n",
    "        return model_dir\n",
    "    \n",
    "    def encode_point(self, point):\n",
    "        pt = point.point_type\n",
    "        # !!! In the real shadow this dictionary will not contain the datatype !!!\n",
    "        # !!! Instead it will have the value of the modbus register !!!\n",
    "        return {pt.id: pt.type}\n",
    "    \n",
    "    def encode_points_list(self, points_list):\n",
    "        points_dir = {}\n",
    "        for point in points_list:\n",
    "            points_dir.update(self.encode_point(point))\n",
    "        return points_dir\n",
    "    \n",
    "    def encode_block(self, block):\n",
    "        return self.encode_points_list(block.points_list)\n",
    "    \n",
    "    def encode_blocks(self, blocks):\n",
    "        ''' blocks: List[device.Block]\n",
    "        '''\n",
    "        block_dir = {}\n",
    "        fixed_block = blocks[0]\n",
    "        assert fixed_block.type=='fixed'\n",
    "        block_dir['fixed'] = fixed_block\n",
    "        try:\n",
    "            repeating_blocks = blocks[1:]\n",
    "        except IndexError:\n",
    "            repeating_blocks = []\n",
    "        \n",
    "        if repeating_blocks:\n",
    "            block_dir['repeating'] = list_to_indexdir(repeating_blocks)\n",
    "            \n",
    "        return block_dir\n",
    "     "
   ]
  },
  {
   "cell_type": "code",
   "execution_count": 8,
   "id": "1b215cbb-7475-4fda-a1ee-041a1ffbe796",
   "metadata": {},
   "outputs": [],
   "source": [
    "#export  \n",
    "def encode(obj, as_obj=False):\n",
    "    dumped = json.dumps(obj, cls=ShadowSunspecEncoder)\n",
    "    if as_obj:\n",
    "        return json.loads(dumped)\n",
    "    else:\n",
    "        return dumped"
   ]
  },
  {
   "cell_type": "code",
   "execution_count": 9,
   "id": "1365678e-d826-441e-8aa1-f9886df304d0",
   "metadata": {},
   "outputs": [
    {
     "name": "stdout",
     "output_type": "stream",
     "text": [
      "{\n",
      "  \"0\": {\n",
      "    \"fixed\": {\n",
      "      \"AHRtg\": \"uint16\",\n",
      "      \"WHRtg\": \"uint16\",\n",
      "      \"WChaRteMax\": \"uint16\",\n",
      "      \"WDisChaRteMax\": \"uint16\",\n",
      "      \"DisChaRte\": \"uint16\",\n",
      "      \"SoCMax\": \"uint16\",\n",
      "      \"SoCMin\": \"uint16\",\n",
      "      \"SocRsvMax\": \"uint16\",\n",
      "      \"SoCRsvMin\": \"uint16\",\n",
      "      \"SoC\": \"uint16\",\n",
      "      \"DoD\": \"uint16\",\n",
      "      \"SoH\": \"uint16\",\n",
      "      \"NCyc\": \"uint32\",\n",
      "      \"ChaSt\": \"enum16\",\n",
      "      \"LocRemCtl\": \"enum16\",\n",
      "      \"Hb\": \"uint16\",\n",
      "      \"CtrlHb\": \"uint16\",\n",
      "      \"AlmRst\": \"uint16\",\n",
      "      \"Typ\": \"enum16\",\n",
      "      \"State\": \"enum16\",\n",
      "      \"StateVnd\": \"enum16\",\n",
      "      \"WarrDt\": \"uint32\",\n",
      "      \"Evt1\": \"bitfield32\",\n",
      "      \"Evt2\": \"bitfield32\",\n",
      "      \"EvtVnd1\": \"bitfield32\",\n",
      "      \"EvtVnd2\": \"bitfield32\",\n",
      "      \"V\": \"uint16\",\n",
      "      \"VMax\": \"uint16\",\n",
      "      \"VMin\": \"uint16\",\n",
      "      \"CellVMax\": \"uint16\",\n",
      "      \"CellVMaxStr\": \"uint16\",\n",
      "      \"CellVMaxMod\": \"uint16\",\n",
      "      \"CellVMin\": \"uint16\",\n",
      "      \"CellVMinStr\": \"uint16\",\n",
      "      \"CellVMinMod\": \"uint16\",\n",
      "      \"CellVAvg\": \"uint16\",\n",
      "      \"A\": \"int16\",\n",
      "      \"AChaMax\": \"uint16\",\n",
      "      \"ADisChaMax\": \"uint16\",\n",
      "      \"W\": \"int16\",\n",
      "      \"ReqInvState\": \"enum16\",\n",
      "      \"ReqW\": \"int16\",\n",
      "      \"SetOp\": \"enum16\",\n",
      "      \"SetInvState\": \"enum16\"\n",
      "    },\n",
      "    \"id\": 802\n",
      "  }\n",
      "}\n"
     ]
    }
   ],
   "source": [
    "dev = assemble([{'mid': 802}])\n",
    "print(json.dumps(encode(dev, as_obj=True), indent=2))"
   ]
  },
  {
   "cell_type": "code",
   "execution_count": 10,
   "id": "1b4a6c7a-12a8-4529-8d91-b20ffaa9c44a",
   "metadata": {},
   "outputs": [
    {
     "name": "stdout",
     "output_type": "stream",
     "text": [
      "Converted factory.ipynb.\n"
     ]
    }
   ],
   "source": [
    "notebook2script(_nbpath)"
   ]
  }
 ],
 "metadata": {
  "kernelspec": {
   "display_name": "Python 3 (ipykernel)",
   "language": "python",
   "name": "python3"
  },
  "language_info": {
   "codemirror_mode": {
    "name": "ipython",
    "version": 3
   },
   "file_extension": ".py",
   "mimetype": "text/x-python",
   "name": "python",
   "nbconvert_exporter": "python",
   "pygments_lexer": "ipython3",
   "version": "3.8.10"
  }
 },
 "nbformat": 4,
 "nbformat_minor": 5
}
